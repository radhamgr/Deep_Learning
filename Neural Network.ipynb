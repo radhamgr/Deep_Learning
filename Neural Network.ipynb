{
 "cells": [
  {
   "cell_type": "code",
   "execution_count": 1,
   "metadata": {},
   "outputs": [],
   "source": [
    "import numpy as np\n",
    "\n",
    "#input array\n",
    "X = np.array([[1,0,1,0],[1,0,1,1],[0,1,0,1]])\n",
    "\n",
    "#output\n",
    "Y = np.array([[1],[1],[0]])"
   ]
  },
  {
   "cell_type": "code",
   "execution_count": 2,
   "metadata": {},
   "outputs": [],
   "source": [
    "# activation function\n",
    "def sigmoid(x):\n",
    "    return 1/(1 + np.exp(-x))"
   ]
  },
  {
   "cell_type": "code",
   "execution_count": 3,
   "metadata": {},
   "outputs": [],
   "source": [
    "# derivative of activation finction\n",
    "def derivative_sigmoid(x):\n",
    "    return x*(1-x)"
   ]
  },
  {
   "cell_type": "code",
   "execution_count": 4,
   "metadata": {},
   "outputs": [],
   "source": [
    "# define variables\n",
    "lr=0.1\n",
    "inputlayer_neurons = X.shape[1]\n",
    "outputlayer_neuron = 1\n",
    "hiddenlayer_neurons = 3"
   ]
  },
  {
   "cell_type": "code",
   "execution_count": 5,
   "metadata": {},
   "outputs": [],
   "source": [
    "#weight and bias initialization\n",
    "wh = np.random.uniform(size=(inputlayer_neurons,hiddenlayer_neurons))\n",
    "wout = np.random.uniform(size = (hiddenlayer_neurons,outputlayer_neuron))\n",
    "bh = np.random.uniform(size=(1,hiddenlayer_neurons))\n",
    "bhout = np.random.uniform(size=(1,outputlayer_neuron))"
   ]
  },
  {
   "cell_type": "code",
   "execution_count": 6,
   "metadata": {},
   "outputs": [
    {
     "data": {
      "text/plain": [
       "array([[0.1658741 , 0.92999607, 0.88884671],\n",
       "       [0.50415639, 0.61778118, 0.79190329],\n",
       "       [0.45421692, 0.99259916, 0.57673174],\n",
       "       [0.72059223, 0.20760866, 0.21421696]])"
      ]
     },
     "execution_count": 6,
     "metadata": {},
     "output_type": "execute_result"
    }
   ],
   "source": [
    "wh"
   ]
  },
  {
   "cell_type": "code",
   "execution_count": 7,
   "metadata": {},
   "outputs": [
    {
     "data": {
      "text/plain": [
       "array([[0.81995689, 0.02923759, 0.69039932]])"
      ]
     },
     "execution_count": 7,
     "metadata": {},
     "output_type": "execute_result"
    }
   ],
   "source": [
    "bh"
   ]
  },
  {
   "cell_type": "code",
   "execution_count": 8,
   "metadata": {},
   "outputs": [
    {
     "name": "stdout",
     "output_type": "stream",
     "text": [
      "[[0.98065907]\n",
      " [0.96774526]\n",
      " [0.04577124]]\n"
     ]
    }
   ],
   "source": [
    "epoch = 5000\n",
    "for i in range(epoch):\n",
    "    #Forward Propogation\n",
    "    hidden_layer_input1=np.dot(X,wh)\n",
    "    hidden_layer_input = hidden_layer_input1+bh\n",
    "    hidden_layer_activation = sigmoid(hidden_layer_input)\n",
    "    output_layer_input1=np.dot(hidden_layer_activation,wout)\n",
    "    output_layer_input = output_layer_input1+bhout\n",
    "    output = sigmoid(output_layer_input)\n",
    "    \n",
    "    # back propogation\n",
    "    E = Y-output\n",
    "    slope_output_layer = derivative_sigmoid(output)\n",
    "    slope_hidden_layer = derivative_sigmoid(hidden_layer_activation)\n",
    "    d_output = E*slope_output_layer\n",
    "    Error_at_hidden_layer = d_output.dot(wout.T)\n",
    "    d_hiddenlayer = Error_at_hidden_layer*slope_hidden_layer\n",
    "    \n",
    "    wout+=hidden_layer_activation.T.dot(d_output)*lr\n",
    "    wh+=X.T.dot(d_hiddenlayer)*lr\n",
    "    bhout+=np.sum(d_output,axis=0,keepdims=True)*lr\n",
    "    bh+=np.sum(d_hiddenlayer,axis=0,keepdims=True)*lr\n",
    "print(output)"
   ]
  },
  {
   "cell_type": "code",
   "execution_count": null,
   "metadata": {},
   "outputs": [],
   "source": []
  }
 ],
 "metadata": {
  "kernelspec": {
   "display_name": "Python 3",
   "language": "python",
   "name": "python3"
  },
  "language_info": {
   "codemirror_mode": {
    "name": "ipython",
    "version": 3
   },
   "file_extension": ".py",
   "mimetype": "text/x-python",
   "name": "python",
   "nbconvert_exporter": "python",
   "pygments_lexer": "ipython3",
   "version": "3.7.3"
  }
 },
 "nbformat": 4,
 "nbformat_minor": 2
}
